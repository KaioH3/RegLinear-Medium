{
 "cells": [
  {
   "cell_type": "markdown",
   "id": "562f5fed-886c-4c4c-b5ca-44e32689139c",
   "metadata": {},
   "source": [
    "## Importando Bibliotecas"
   ]
  },
  {
   "cell_type": "code",
   "execution_count": null,
   "id": "13b6935e-5683-450b-9991-13e5a11b4823",
   "metadata": {},
   "outputs": [],
   "source": [
    "import pandas as pd\n",
    "import numpy as np\n",
    "import matplotlib.pyplot as plt\n",
    "import seaborn as sns"
   ]
  },
  {
   "cell_type": "code",
   "execution_count": null,
   "id": "0be82ade-3cc8-491f-801f-13afd5164980",
   "metadata": {},
   "outputs": [],
   "source": [
    "from sklearn.linear_model import LinearRegression #importa a função de regressão linear do sklearn\n",
    "from sklearn.metrics import mean_absolute_error #importa a metrica mean_absolute_error do sklearn\n",
    "from sklearn.model_selection import train_test_split #importa o split"
   ]
  },
  {
   "cell_type": "markdown",
   "id": "35912298-8abc-4d08-9cff-aff324c661e0",
   "metadata": {},
   "source": [
    "## Lendo o arquivo"
   ]
  },
  {
   "cell_type": "code",
   "execution_count": null,
   "id": "69b45950-d3c1-441e-b901-93beb44751e5",
   "metadata": {},
   "outputs": [],
   "source": [
    "dados = pd.read_csv('mt_car.csv') #transforma o arquivo csv em um dataframe do pandas "
   ]
  },
  {
   "cell_type": "code",
   "execution_count": null,
   "id": "a4b51be4-047e-4a98-b3f2-821d9f048964",
   "metadata": {
    "tags": []
   },
   "outputs": [],
   "source": [
    "dados.shape #para vermos quantas linhas e colunas o dataframe tem"
   ]
  },
  {
   "cell_type": "code",
   "execution_count": 134,
   "id": "b28173fe-aa62-47dc-a338-ee2c0fceb3df",
   "metadata": {},
   "outputs": [
    {
     "data": {
      "text/html": [
       "<div>\n",
       "<style scoped>\n",
       "    .dataframe tbody tr th:only-of-type {\n",
       "        vertical-align: middle;\n",
       "    }\n",
       "\n",
       "    .dataframe tbody tr th {\n",
       "        vertical-align: top;\n",
       "    }\n",
       "\n",
       "    .dataframe thead th {\n",
       "        text-align: right;\n",
       "    }\n",
       "</style>\n",
       "<table border=\"1\" class=\"dataframe\">\n",
       "  <thead>\n",
       "    <tr style=\"text-align: right;\">\n",
       "      <th></th>\n",
       "      <th>mpg</th>\n",
       "      <th>cyl</th>\n",
       "      <th>disp</th>\n",
       "      <th>drat</th>\n",
       "      <th>wt</th>\n",
       "      <th>qsec</th>\n",
       "      <th>vs</th>\n",
       "      <th>am</th>\n",
       "      <th>gear</th>\n",
       "      <th>carb</th>\n",
       "      <th>hp</th>\n",
       "    </tr>\n",
       "  </thead>\n",
       "  <tbody>\n",
       "    <tr>\n",
       "      <th>0</th>\n",
       "      <td>21.0</td>\n",
       "      <td>6</td>\n",
       "      <td>160.0</td>\n",
       "      <td>3.90</td>\n",
       "      <td>2.620</td>\n",
       "      <td>16.46</td>\n",
       "      <td>0</td>\n",
       "      <td>1</td>\n",
       "      <td>4</td>\n",
       "      <td>4</td>\n",
       "      <td>110</td>\n",
       "    </tr>\n",
       "    <tr>\n",
       "      <th>1</th>\n",
       "      <td>21.0</td>\n",
       "      <td>6</td>\n",
       "      <td>160.0</td>\n",
       "      <td>3.90</td>\n",
       "      <td>2.875</td>\n",
       "      <td>17.02</td>\n",
       "      <td>0</td>\n",
       "      <td>1</td>\n",
       "      <td>4</td>\n",
       "      <td>4</td>\n",
       "      <td>110</td>\n",
       "    </tr>\n",
       "    <tr>\n",
       "      <th>2</th>\n",
       "      <td>22.8</td>\n",
       "      <td>4</td>\n",
       "      <td>108.0</td>\n",
       "      <td>3.85</td>\n",
       "      <td>2.320</td>\n",
       "      <td>18.61</td>\n",
       "      <td>1</td>\n",
       "      <td>1</td>\n",
       "      <td>4</td>\n",
       "      <td>1</td>\n",
       "      <td>93</td>\n",
       "    </tr>\n",
       "    <tr>\n",
       "      <th>3</th>\n",
       "      <td>21.4</td>\n",
       "      <td>6</td>\n",
       "      <td>258.0</td>\n",
       "      <td>3.08</td>\n",
       "      <td>3.215</td>\n",
       "      <td>19.44</td>\n",
       "      <td>1</td>\n",
       "      <td>0</td>\n",
       "      <td>3</td>\n",
       "      <td>1</td>\n",
       "      <td>110</td>\n",
       "    </tr>\n",
       "    <tr>\n",
       "      <th>4</th>\n",
       "      <td>18.7</td>\n",
       "      <td>8</td>\n",
       "      <td>360.0</td>\n",
       "      <td>3.15</td>\n",
       "      <td>3.440</td>\n",
       "      <td>17.02</td>\n",
       "      <td>0</td>\n",
       "      <td>0</td>\n",
       "      <td>3</td>\n",
       "      <td>2</td>\n",
       "      <td>175</td>\n",
       "    </tr>\n",
       "    <tr>\n",
       "      <th>5</th>\n",
       "      <td>18.1</td>\n",
       "      <td>6</td>\n",
       "      <td>225.0</td>\n",
       "      <td>2.76</td>\n",
       "      <td>3.460</td>\n",
       "      <td>20.22</td>\n",
       "      <td>1</td>\n",
       "      <td>0</td>\n",
       "      <td>3</td>\n",
       "      <td>1</td>\n",
       "      <td>105</td>\n",
       "    </tr>\n",
       "    <tr>\n",
       "      <th>6</th>\n",
       "      <td>14.3</td>\n",
       "      <td>8</td>\n",
       "      <td>360.0</td>\n",
       "      <td>3.21</td>\n",
       "      <td>3.570</td>\n",
       "      <td>15.84</td>\n",
       "      <td>0</td>\n",
       "      <td>0</td>\n",
       "      <td>3</td>\n",
       "      <td>4</td>\n",
       "      <td>245</td>\n",
       "    </tr>\n",
       "  </tbody>\n",
       "</table>\n",
       "</div>"
      ],
      "text/plain": [
       "    mpg  cyl   disp  drat     wt   qsec  vs  am  gear  carb   hp\n",
       "0  21.0    6  160.0  3.90  2.620  16.46   0   1     4     4  110\n",
       "1  21.0    6  160.0  3.90  2.875  17.02   0   1     4     4  110\n",
       "2  22.8    4  108.0  3.85  2.320  18.61   1   1     4     1   93\n",
       "3  21.4    6  258.0  3.08  3.215  19.44   1   0     3     1  110\n",
       "4  18.7    8  360.0  3.15  3.440  17.02   0   0     3     2  175\n",
       "5  18.1    6  225.0  2.76  3.460  20.22   1   0     3     1  105\n",
       "6  14.3    8  360.0  3.21  3.570  15.84   0   0     3     4  245"
      ]
     },
     "execution_count": 134,
     "metadata": {},
     "output_type": "execute_result"
    }
   ],
   "source": [
    "dados.head(7) #para vermos as 7 linhas iniciais"
   ]
  },
  {
   "cell_type": "code",
   "execution_count": null,
   "id": "63b26d03-ddba-425f-9a19-ee9f59c88262",
   "metadata": {},
   "outputs": [],
   "source": [
    "dados.info()"
   ]
  },
  {
   "cell_type": "code",
   "execution_count": null,
   "id": "6cac2234-0a67-4332-a506-469552517caf",
   "metadata": {},
   "outputs": [],
   "source": [
    "#exclui a coluna que contém os nomes dos carros, porque não será necessário\n",
    "#onde axis = 1 para coluna e 0 para linha\n",
    "dados = dados.drop(['Unnamed: 0'], axis = 1)"
   ]
  },
  {
   "cell_type": "code",
   "execution_count": null,
   "id": "787feba6-b4b3-4f68-8ce1-f160990e22bd",
   "metadata": {},
   "outputs": [],
   "source": [
    "#Movendo a coluna hp para o final do dataframe\n",
    "\n",
    "#a função dados.columns retorna o nome das colunas\n",
    "#e a função to_list() transforma o retorno da função de cima em lista\n",
    "#e armazena tudo em colunas\n",
    "colunas = dados.columns.to_list()\n",
    "\n",
    "#eu copio e colo a saída da função de cima^ na variavel debaixo\n",
    "nova_coluna = ['mpg', 'cyl', 'disp', 'drat', 'wt', 'qsec', 'vs', 'am', 'gear', 'carb', 'hp']\n",
    "\n",
    "#e então transformo o dataframe\n",
    "dados = dados[nova_coluna]\n",
    "\n",
    "#verificando alteração\n",
    "dados.head()"
   ]
  },
  {
   "cell_type": "markdown",
   "id": "fc34e576-22c0-4441-af5a-0a185909f91c",
   "metadata": {},
   "source": [
    "## Correlação"
   ]
  },
  {
   "cell_type": "code",
   "execution_count": null,
   "id": "fee16770-fc84-4799-8a68-7e87c1b14ac4",
   "metadata": {},
   "outputs": [],
   "source": [
    "#Correlograma\n",
    "#usando a função dados.corr() para gerar um dataframe com as correlações\n",
    "#e a biblioteca seaborn para gera um mapa de calor com a função heatmap \n",
    "plt.figure(figsize=(12,6))\n",
    "sns.heatmap(dados.corr(),annot=True,cmap='Blues')\n",
    "#salvando e imprimindo o correlograma \n",
    "plt.savefig(\"correlograma_irado\")\n",
    "plt.show()"
   ]
  },
  {
   "cell_type": "code",
   "execution_count": null,
   "id": "10b8c4cd-60ab-4f56-8587-312367d2dfb6",
   "metadata": {},
   "outputs": [],
   "source": [
    "#mostrando a correlação da variavel que quero prever com mais casas decimais\n",
    "#deve se notar que a correlação de hp com hp é sempre 1 pois eles tem a mesma taxa de variação!\n",
    "#isso sempre ocorre entre duas variaveis iguais!!!\n",
    "dados.corr()['hp']"
   ]
  },
  {
   "cell_type": "code",
   "execution_count": null,
   "id": "5476b9c1-ee81-4782-96a5-4ece12d9b464",
   "metadata": {},
   "outputs": [],
   "source": [
    "#demonstrando correlações mais fortes sem distinção de negativa ou positiva\n",
    "abs(dados.corr()['hp'])>=0.75\n",
    "#a função abs() retorna os valores absolutos das correlações"
   ]
  },
  {
   "cell_type": "markdown",
   "id": "8e6bf72a-f019-4ae1-a4ba-71fc0b8a5842",
   "metadata": {},
   "source": [
    "## Atributos"
   ]
  },
  {
   "cell_type": "code",
   "execution_count": null,
   "id": "57d53070-78ec-43c7-9042-c8c14cac4651",
   "metadata": {},
   "outputs": [],
   "source": [
    "#atributos que irei estudar: \n",
    "#           mpg: miles per galon, ou milhas por galão(metrica imperial para volume)\n",
    "#           cyl: número de cilindros\n",
    "#           disp: é a quantidade de ar que é deslocado para dentro do motor\n",
    "#           hp: quantos cavalos o carro tem \n",
    "#           drat: relação do eixo traseiro\n",
    "#           wt: peso do carro em libras dividido por 1000\n",
    "#           qsec: quanto tempo o carro percorre 1/4 de milha     \n",
    "#           vs: tipo de motor(0 = em v; 1 = em linha reta)\n",
    "#           am: tipo de transmissão(0 = automatico; 1 = manual)\n",
    "#           gear: número de marchas sem incluir a ré\n",
    "#           carb: número de carburadores"
   ]
  },
  {
   "cell_type": "markdown",
   "id": "1bb14e47-9df0-40a4-b387-a9fa9c9ba589",
   "metadata": {
    "tags": []
   },
   "source": [
    "## Métricas"
   ]
  },
  {
   "cell_type": "code",
   "execution_count": null,
   "id": "001c08ef-5f55-4b94-9eef-9b7c6aa2e3f8",
   "metadata": {},
   "outputs": [],
   "source": [
    "def metricas(dado_real, previsao):\n",
    "    \n",
    "#MAE(Mean Absolute Error) é soma das diferença absolutas(sem diferença de sinal, positivo ou negativo) entre os valores reais \n",
    "#e  o valor da previsão\n",
    "    MAE = mean_absolute_error(dado_real, previsao)\n",
    "\n",
    "#RMSE(Root Mean Square Error) é o desvio padrão dos resíduos(a distância entre os pontos da previsão e os pontos reais(y_test)).\n",
    "#ou seja, mostra o quão próximos os dados da previsão estão dos dados reais\n",
    "    RMSE = np.sqrt(mean_absolute_error(dado_real, previsao))\n",
    "    \n",
    "    \n",
    "#imprime na tela o RMSE(Root Mean Square Error) e o MAE\n",
    "    print(\"RMSE: {} \\nMAE: {}\\n\".format(RMSE, MAE))\n",
    "#Quanto menor o valor das duas métricas melhor, porém deve-se tomar cuidado com o overfitting do modelo!\n",
    "\n",
    "\n",
    "#Comparando os dados da previsão com os dados reais de teste\n",
    "\n",
    "#a função round serve para arredondar os números de uma matriz numpy\n",
    "#arredonda os número e deixa uma casa decimal\n",
    "    arredondado = previsao.round(1)\n",
    "    print(\"y_teste:  {} \\nprevisões:{}\".format(dado_real, arredondado))"
   ]
  },
  {
   "cell_type": "markdown",
   "id": "9067312e-28b1-4ea2-8f84-793e3c5edad2",
   "metadata": {},
   "source": [
    "## Split treino e teste"
   ]
  },
  {
   "cell_type": "code",
   "execution_count": null,
   "id": "e5ae00ce-310b-4628-9997-f2106501ee60",
   "metadata": {},
   "outputs": [],
   "source": [
    "#revendo o formato do dataframe\n",
    "dados.head()"
   ]
  },
  {
   "cell_type": "code",
   "execution_count": null,
   "id": "cc068eaf-328c-42cc-99ed-07b329573e95",
   "metadata": {},
   "outputs": [],
   "source": [
    "#experimento 1, separando todas as variaveis para treinar o modelo\n",
    "X = dados.iloc[:, 0:9].values #os atributos preditores\n",
    "y = dados.iloc[:, 10].values #o hp que será previsto\n",
    "\n",
    "#a função iloc funciona buscando linhas ou colunas de um dataframe a partir de seus índices\n",
    "#e a função loc tem o mesmo objetivo do iloc, só que busca a partir dos labels das linhas ou colunas"
   ]
  },
  {
   "cell_type": "code",
   "execution_count": null,
   "id": "66dbb458-7351-4f08-a689-18bcd1cb0620",
   "metadata": {},
   "outputs": [],
   "source": [
    "#separa dados de treino e de teste aleotoriamente com uma proporção de 90/10, treinamento/teste\n",
    "#e com random_state=123, uma seed é definida para que o experimento possa ser replicado\n",
    "#e retorna uma matriz ou array  \n",
    "X_train, X_test, y_train, y_test = train_test_split(X, y, test_size=0.1, random_state=123)\n",
    "\n",
    "\n",
    "X_train.shape, X_test.shape, y_train.shape, y_test.shape# sempre olhar o formato do split!"
   ]
  },
  {
   "cell_type": "markdown",
   "id": "ec3c1bfd-3f2c-46ad-aa2d-7f839ac800c5",
   "metadata": {},
   "source": [
    "## Treinando o modelo"
   ]
  },
  {
   "cell_type": "code",
   "execution_count": null,
   "id": "c18f1e9c-84bd-476a-80a8-e465b6ebc000",
   "metadata": {},
   "outputs": [],
   "source": [
    "#a função de regressão linear do sklearn \n",
    "modelo1 = LinearRegression()\n",
    "modelo1.fit(X_train, y_train)#treinando o modelo com os dados respectivos de treinamento\n",
    "\n",
    "previsoes = modelo1.predict(X_test)#prevê o hp(y) baseado nos dados de X_test"
   ]
  },
  {
   "cell_type": "markdown",
   "id": "531c9889-6fb3-412e-bd32-a3dc7cbcaeef",
   "metadata": {},
   "source": [
    "## Comparando os dados da previsão com os dados reais de teste"
   ]
  },
  {
   "cell_type": "code",
   "execution_count": null,
   "id": "a2814473-1fae-4b9a-8232-ca0e79ebb6eb",
   "metadata": {},
   "outputs": [],
   "source": [
    "metricas(y_test, previsoes)"
   ]
  },
  {
   "cell_type": "code",
   "execution_count": null,
   "id": "c96c79e6-d726-436f-934b-ee6b9b54ae31",
   "metadata": {},
   "outputs": [],
   "source": [
    "#nota-se que as previsões foram boas, mas podem melhorar!"
   ]
  },
  {
   "cell_type": "markdown",
   "id": "1743f64b-59f9-4910-ba9f-579f2ec47bf8",
   "metadata": {},
   "source": [
    "## Melhorando o modelo a partir das correlações mais fortes"
   ]
  },
  {
   "cell_type": "code",
   "execution_count": 127,
   "id": "1fbf3e53-8f5e-48ff-a914-5310809220d5",
   "metadata": {},
   "outputs": [
    {
     "data": {
      "text/plain": [
       "mpg      True\n",
       "cyl      True\n",
       "disp     True\n",
       "drat    False\n",
       "wt      False\n",
       "qsec     True\n",
       "vs       True\n",
       "am      False\n",
       "gear    False\n",
       "carb     True\n",
       "hp       True\n",
       "Name: hp, dtype: bool"
      ]
     },
     "execution_count": 127,
     "metadata": {},
     "output_type": "execute_result"
    }
   ],
   "source": [
    "abs(dados.corr()['hp'])>=0.7"
   ]
  },
  {
   "cell_type": "code",
   "execution_count": 128,
   "id": "4ace9f86-70ae-4bf0-a331-448d0c1b0a6e",
   "metadata": {},
   "outputs": [
    {
     "data": {
      "text/html": [
       "<div>\n",
       "<style scoped>\n",
       "    .dataframe tbody tr th:only-of-type {\n",
       "        vertical-align: middle;\n",
       "    }\n",
       "\n",
       "    .dataframe tbody tr th {\n",
       "        vertical-align: top;\n",
       "    }\n",
       "\n",
       "    .dataframe thead th {\n",
       "        text-align: right;\n",
       "    }\n",
       "</style>\n",
       "<table border=\"1\" class=\"dataframe\">\n",
       "  <thead>\n",
       "    <tr style=\"text-align: right;\">\n",
       "      <th></th>\n",
       "      <th>mpg</th>\n",
       "      <th>cyl</th>\n",
       "      <th>disp</th>\n",
       "      <th>carb</th>\n",
       "      <th>qsec</th>\n",
       "      <th>vs</th>\n",
       "    </tr>\n",
       "  </thead>\n",
       "  <tbody>\n",
       "    <tr>\n",
       "      <th>0</th>\n",
       "      <td>21.0</td>\n",
       "      <td>6</td>\n",
       "      <td>160.0</td>\n",
       "      <td>4</td>\n",
       "      <td>16.46</td>\n",
       "      <td>0</td>\n",
       "    </tr>\n",
       "    <tr>\n",
       "      <th>1</th>\n",
       "      <td>21.0</td>\n",
       "      <td>6</td>\n",
       "      <td>160.0</td>\n",
       "      <td>4</td>\n",
       "      <td>17.02</td>\n",
       "      <td>0</td>\n",
       "    </tr>\n",
       "    <tr>\n",
       "      <th>2</th>\n",
       "      <td>22.8</td>\n",
       "      <td>4</td>\n",
       "      <td>108.0</td>\n",
       "      <td>1</td>\n",
       "      <td>18.61</td>\n",
       "      <td>1</td>\n",
       "    </tr>\n",
       "    <tr>\n",
       "      <th>3</th>\n",
       "      <td>21.4</td>\n",
       "      <td>6</td>\n",
       "      <td>258.0</td>\n",
       "      <td>1</td>\n",
       "      <td>19.44</td>\n",
       "      <td>1</td>\n",
       "    </tr>\n",
       "    <tr>\n",
       "      <th>4</th>\n",
       "      <td>18.7</td>\n",
       "      <td>8</td>\n",
       "      <td>360.0</td>\n",
       "      <td>2</td>\n",
       "      <td>17.02</td>\n",
       "      <td>0</td>\n",
       "    </tr>\n",
       "  </tbody>\n",
       "</table>\n",
       "</div>"
      ],
      "text/plain": [
       "    mpg  cyl   disp  carb   qsec  vs\n",
       "0  21.0    6  160.0     4  16.46   0\n",
       "1  21.0    6  160.0     4  17.02   0\n",
       "2  22.8    4  108.0     1  18.61   1\n",
       "3  21.4    6  258.0     1  19.44   1\n",
       "4  18.7    8  360.0     2  17.02   0"
      ]
     },
     "execution_count": 128,
     "metadata": {},
     "output_type": "execute_result"
    }
   ],
   "source": [
    "#experimento 2\n",
    "#separando todas as variaveis para treinar o modelo\n",
    "variaveis = ['mpg', 'cyl', 'disp', 'carb', 'qsec', 'vs']\n",
    "X2 = dados[variaveis] #os atributos preditores\n",
    "\n",
    "y2 = dados.iloc[:, 10].values #o hp que será previsto\n",
    "\n",
    "X2.head()"
   ]
  },
  {
   "cell_type": "code",
   "execution_count": 129,
   "id": "41b0c684-d773-43b5-9b86-810d687728c2",
   "metadata": {},
   "outputs": [
    {
     "data": {
      "text/plain": [
       "((28, 6), (4, 6), (28,), (4,))"
      ]
     },
     "execution_count": 129,
     "metadata": {},
     "output_type": "execute_result"
    }
   ],
   "source": [
    "X_train, X_test, y_train, y_test = train_test_split(X2, y2, test_size=0.1, random_state=123)\n",
    "\n",
    "\n",
    "X_train.shape, X_test.shape, y_train.shape, y_test.shape"
   ]
  },
  {
   "cell_type": "markdown",
   "id": "f3980e89-440d-4283-a806-ae4ec79ed9fa",
   "metadata": {},
   "source": [
    "## Treinando o modelo com as novas variáveis"
   ]
  },
  {
   "cell_type": "code",
   "execution_count": 135,
   "id": "08d90d62-d53a-4d28-8228-8ade4a096eb4",
   "metadata": {},
   "outputs": [],
   "source": [
    "modelo2 = LinearRegression()\n",
    "modelo2.fit(X_train, y_train)\n",
    "\n",
    "previsoes = modelo2.predict(X_test)"
   ]
  },
  {
   "cell_type": "markdown",
   "id": "88627752-6b3d-4638-9d5c-38d556574fbc",
   "metadata": {},
   "source": [
    "## Comparando os dados da previsão com os dados reais de teste"
   ]
  },
  {
   "cell_type": "code",
   "execution_count": 136,
   "id": "9cacbad7-9af2-4d6f-ace0-d41602886fbd",
   "metadata": {},
   "outputs": [
    {
     "name": "stdout",
     "output_type": "stream",
     "text": [
      "RMSE: 3.3047164910370106 \n",
      "MAE: 10.921151086131971\n",
      "\n",
      "y_teste:  [ 62 109 105  91] \n",
      "previsões:[ 90.2  97.5 105.3  87.4]\n"
     ]
    }
   ],
   "source": [
    "metricas(y_test, previsoes)"
   ]
  },
  {
   "cell_type": "markdown",
   "id": "e51d6343-94eb-4f16-9108-602e495cd753",
   "metadata": {},
   "source": [
    "## Ajuda e algumas dicas sobre o jupyter labs ou jupyter notebook"
   ]
  },
  {
   "cell_type": "markdown",
   "id": "352890eb-9256-43d7-b169-d715bc89554a",
   "metadata": {},
   "source": [
    "use \"?train_test_split\" para obter uma ajuda sobre algum elemento\n",
    "\n",
    "use \"!\" para usar o terminal \n",
    "\n",
    "para criar uma nova célula abaixo da atual, aperte ESC+B\n",
    "\n",
    "para apagar uma célula aperte ESC e aperte D duas vezes\n",
    "\n",
    "para criar uma célula markdown, aperte ESC+M\n",
    "\n",
    "para cria uma célula de título, transforme em markdown, depois \"## o seu texto\""
   ]
  },
  {
   "cell_type": "code",
   "execution_count": null,
   "id": "ddde73f2-1b2c-4bbf-9a27-2c7d21c9ec79",
   "metadata": {},
   "outputs": [],
   "source": []
  }
 ],
 "metadata": {
  "kernelspec": {
   "display_name": "Python 3 (ipykernel)",
   "language": "python",
   "name": "python3"
  },
  "language_info": {
   "codemirror_mode": {
    "name": "ipython",
    "version": 3
   },
   "file_extension": ".py",
   "mimetype": "text/x-python",
   "name": "python",
   "nbconvert_exporter": "python",
   "pygments_lexer": "ipython3",
   "version": "3.9.12"
  }
 },
 "nbformat": 4,
 "nbformat_minor": 5
}
